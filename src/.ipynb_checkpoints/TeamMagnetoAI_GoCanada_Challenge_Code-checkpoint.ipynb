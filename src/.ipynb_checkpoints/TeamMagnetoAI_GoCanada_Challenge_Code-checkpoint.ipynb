{
 "cells": [
  {
   "cell_type": "code",
   "execution_count": 17,
   "metadata": {},
   "outputs": [],
   "source": [
    "import pandas as pd\n",
    "import numpy as np\n",
    "import pykrige.kriging_tools as kt\n",
    "from pykrige.ok import OrdinaryKriging\n",
    "import folium\n",
    "from folium import plugins\n",
    "from folium.plugins import HeatMap\n",
    "import webbrowser"
   ]
  },
  {
   "cell_type": "code",
   "execution_count": 8,
   "metadata": {},
   "outputs": [],
   "source": [
    "def perform_kriging(mode='test'):\n",
    "    # Canada's extreme coordinates\n",
    "    western_lon = -142.0\n",
    "    eastern_lon = -50.0\n",
    "    southern_lat = 44.0\n",
    "    northern_lat = 80.0\n",
    "    grid_lon = np.linspace(western_lon, eastern_lon, 92)\n",
    "    grid_lat = np.linspace(southern_lat, northern_lat, 36)\n",
    "    \n",
    "    if mode == 'test':\n",
    "        dataset_path = \"../data/clean_data/dataset2_holed_cleaned.csv\"\n",
    "        df = pd.read_csv(dataset_path)\n",
    "        df['MEA'] = 0\n",
    "        target_values = ['MEA', 'MEA_lon', 'MEA_lat']\n",
    "        site_names = ['BACK', 'FSIM', 'FSMI', 'GILL', 'GULL', 'MCMU', 'PINA', 'RANK',\n",
    "               'THRF', 'WGRY', 'BLC', 'IQA', 'OTT', 'RES', 'STJ', 'VIC']\n",
    "    else:\n",
    "        dataset_path = \"../data/clean_data/dataset2_full_cleaned.csv\"\n",
    "        df = pd.read_csv(dataset_path)\n",
    "        target_values = ['MEA', 'MEA_lon', 'MEA_lat']\n",
    "        site_names = ['DAWS', 'FSIM', 'FSMI', 'GILL', 'MCMU', 'RANK', 'TALO', 'WGRY',\n",
    "                      'BRD', 'CBB', 'FCC', 'IQA', 'OTT', 'RES', 'STJ', 'VIC']\n",
    "        \n",
    "    train_data = df[site_names]\n",
    "    latitudes = []\n",
    "    longitudes = []\n",
    "    for name in site_names:\n",
    "        latitudes.append(df[name + '_lat'][0])\n",
    "        longitudes.append(df[name + '_lon'][0])\n",
    "\n",
    "    expected_output = df[target_values]\n",
    "\n",
    "    #Take input from the user on the data/time they want to estime the magnetic field\n",
    "    input_val = input(\"Enter the time you wish to view the magentic field activity at (in the form DD-HH): \")\n",
    "    print(input_val)\n",
    "    index_list = df.index[df['DD-HH'] == str(input_val)].tolist()\n",
    "    if len(index_list) == 0:\n",
    "        print(f\"{input_val} is not a valid date-time value in the dataset.\")\n",
    "    else:\n",
    "        index = index_list[0]\n",
    "        #print(index)\n",
    "        \n",
    "    # Perform kriging\n",
    "    if index < 2:\n",
    "        index = 1\n",
    "    df_mean = train_data.rolling(2).mean()\n",
    "    OK = OrdinaryKriging(longitudes, latitudes, df_mean.loc[index], variogram_model='spherical', verbose=False,\n",
    "                     enable_plotting=False, coordinates_type='geographic')\n",
    "    z1, ss1 = OK.execute('grid', grid_lon, grid_lat)\n",
    "    predicted_value = round(z1.data[9][28],2)\n",
    "    if mode == 'test':\n",
    "        print(f\"Predicted value is: {predicted_value}\")\n",
    "    else:\n",
    "        print(f\"Target: {expected_output['MEA'][index]} and Prediction: {predicted_value}\")\n",
    "\n",
    "    # Structure the data to plot\n",
    "    plot_df = pd.DataFrame(columns=['Lat', 'Lon', 'Val', 'Name'])\n",
    "\n",
    "    for s_name in site_names:\n",
    "        lat = df[s_name + \"_lat\"][index]\n",
    "        lon = df[s_name + \"_lon\"][index]\n",
    "        val = df[s_name][index]\n",
    "        name = s_name\n",
    "        plot_df = plot_df.append(pd.Series([lat, lon, val, name], index=plot_df.columns), ignore_index=True)\n",
    "\n",
    "    # Add entry for MEA explicityly (i.e the missing station)\n",
    "    lat = df[\"MEA_lat\"][index]\n",
    "    lon = df[\"MEA_lon\"][index]\n",
    "    val = predicted_value\n",
    "    name = \"MEA\"\n",
    "    plot_df = plot_df.append(pd.Series([lat, lon, val, name], index=plot_df.columns), ignore_index=True)    \n",
    "    \n",
    "    return plot_df"
   ]
  },
  {
   "cell_type": "code",
   "execution_count": 22,
   "metadata": {},
   "outputs": [],
   "source": [
    "def visualise_data(plot_df):\n",
    "    # Instantiate map\n",
    "    midpoint_lon = -96.0\n",
    "    midpoint_lat = 62.0\n",
    "    \n",
    "    m = folium.Map([midpoint_lat, midpoint_lon], zoom_start=3, control_scale=True) \n",
    "\n",
    "    # plot all points except MEA. MEA will be plotted seperately\n",
    "    for i in range(0,plot_df.shape[0]-1):\n",
    "        text_to_display = plot_df.iloc[i]['Name'] + \":\" + str(plot_df.iloc[i]['Val'])\n",
    "        folium.Circle(\n",
    "          location=[plot_df.iloc[i]['Lat'], plot_df.iloc[i]['Lon']],\n",
    "          popup=text_to_display,\n",
    "          radius=plot_df.iloc[i]['Val']*2000,\n",
    "          color='green',\n",
    "          fill=True,\n",
    "          fill_color='green'\n",
    "       ).add_to(m)\n",
    "\n",
    "    # Plot MEA data\n",
    "    text_to_display = plot_df.iloc[-1]['Name'] + \":\" + str(plot_df.iloc[-1]['Val'])\n",
    "    folium.Circle(\n",
    "          location=[plot_df.iloc[-1]['Lat'], plot_df.iloc[-1]['Lon']],\n",
    "          popup=text_to_display,\n",
    "          radius=plot_df.iloc[-1]['Val']*2000,\n",
    "          color='crimson',\n",
    "          fill=True,\n",
    "          fill_color='crimson'\n",
    "       ).add_to(m)\n",
    "    m.save('visualisation_plot.html')\n",
    "    \n",
    "    # Open the plot in a new browser tab\n",
    "    new = 2\n",
    "    url = \"./visualisation_plot.html\"\n",
    "    webbrowser.open(url,new=new)"
   ]
  },
  {
   "cell_type": "code",
   "execution_count": 27,
   "metadata": {},
   "outputs": [
    {
     "name": "stdin",
     "output_type": "stream",
     "text": [
      "Enter the time you wish to view the magentic field activity at (in the form DD-HH):  18-03\n"
     ]
    },
    {
     "name": "stdout",
     "output_type": "stream",
     "text": [
      "18-03\n",
      "Target: 5.93 and Prediction: 6.74\n"
     ]
    }
   ],
   "source": [
    "plot_data = perform_kriging('train')\n",
    "visualise_data(plot_data)"
   ]
  },
  {
   "cell_type": "code",
   "execution_count": null,
   "metadata": {},
   "outputs": [],
   "source": []
  }
 ],
 "metadata": {
  "kernelspec": {
   "display_name": "Python 3",
   "language": "python",
   "name": "python3"
  },
  "language_info": {
   "codemirror_mode": {
    "name": "ipython",
    "version": 3
   },
   "file_extension": ".py",
   "mimetype": "text/x-python",
   "name": "python",
   "nbconvert_exporter": "python",
   "pygments_lexer": "ipython3",
   "version": "3.7.3"
  }
 },
 "nbformat": 4,
 "nbformat_minor": 4
}
